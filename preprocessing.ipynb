{
  "cells": [
    {
      "cell_type": "markdown",
      "metadata": {
        "id": "3zgFj9lUudV8"
      },
      "source": [
        "Loading the required libraries"
      ]
    },
    {
      "cell_type": "code",
      "execution_count": 1,
      "metadata": {
        "id": "fhRoC1VYtHF7"
      },
      "outputs": [],
      "source": [
        "import pandas as pd\n",
        "import warnings\n",
        "warnings.filterwarnings('ignore')"
      ]
    },
    {
      "cell_type": "markdown",
      "metadata": {
        "id": "Nr0G1MEYumbG"
      },
      "source": [
        "Loading the datasets"
      ]
    },
    {
      "cell_type": "code",
      "execution_count": 2,
      "metadata": {
        "id": "9V3mDbERtFx7"
      },
      "outputs": [],
      "source": [
        "ord_df = pd.read_csv(r'order_lines.csv')\n",
        "uom_df = pd.read_csv(r'uom_conversions.csv')\n",
        "dist_df = pd.read_csv(r'Distances.csv')\n",
        "gps_df = pd.read_csv(r'Gps_locations.csv')"
      ]
    },
    {
      "cell_type": "markdown",
      "metadata": {
        "id": "kyfheULsvQ3i"
      },
      "source": [
        "Pre-processing Orders data"
      ]
    },
    {
      "cell_type": "code",
      "execution_count": 3,
      "metadata": {
        "colab": {
          "base_uri": "https://localhost:8080/"
        },
        "id": "g7-YVrxivBbF",
        "outputId": "e008678a-6b97-4970-d049-b37bf065177f"
      },
      "outputs": [
        {
          "data": {
            "text/plain": [
              "(5208, 10)"
            ]
          },
          "execution_count": 3,
          "metadata": {},
          "output_type": "execute_result"
        }
      ],
      "source": [
        "ord_df.shape"
      ]
    },
    {
      "cell_type": "code",
      "execution_count": 4,
      "metadata": {
        "colab": {
          "base_uri": "https://localhost:8080/"
        },
        "id": "aZ4xkeFyvenH",
        "outputId": "564be438-ed92-4623-de65-3022e897da38"
      },
      "outputs": [
        {
          "name": "stdout",
          "output_type": "stream",
          "text": [
            "<class 'pandas.core.frame.DataFrame'>\n",
            "RangeIndex: 5208 entries, 0 to 5207\n",
            "Data columns (total 10 columns):\n",
            " #   Column             Non-Null Count  Dtype  \n",
            "---  ------             --------------  -----  \n",
            " 0   Unnamed: 0         5208 non-null   int64  \n",
            " 1   Date               5208 non-null   object \n",
            " 2   Month-Year         5208 non-null   object \n",
            " 3   Warehouse Code     5208 non-null   int64  \n",
            " 4   Customer Code      5208 non-null   object \n",
            " 5   Order Number       5208 non-null   int64  \n",
            " 6   Order Line Number  5208 non-null   int64  \n",
            " 7   Item Code          5208 non-null   object \n",
            " 8   Units              5208 non-null   float64\n",
            " 9   Euros              5208 non-null   float64\n",
            "dtypes: float64(2), int64(4), object(4)\n",
            "memory usage: 407.0+ KB\n"
          ]
        }
      ],
      "source": [
        "ord_df.info()"
      ]
    },
    {
      "cell_type": "code",
      "execution_count": 5,
      "metadata": {
        "colab": {
          "base_uri": "https://localhost:8080/",
          "height": 226
        },
        "id": "QvSFxPCgwy4U",
        "outputId": "8d5082d9-7c74-45e3-cc1f-cf21ac55d33c"
      },
      "outputs": [
        {
          "data": {
            "text/html": [
              "<div>\n",
              "<style scoped>\n",
              "    .dataframe tbody tr th:only-of-type {\n",
              "        vertical-align: middle;\n",
              "    }\n",
              "\n",
              "    .dataframe tbody tr th {\n",
              "        vertical-align: top;\n",
              "    }\n",
              "\n",
              "    .dataframe thead th {\n",
              "        text-align: right;\n",
              "    }\n",
              "</style>\n",
              "<table border=\"1\" class=\"dataframe\">\n",
              "  <thead>\n",
              "    <tr style=\"text-align: right;\">\n",
              "      <th></th>\n",
              "      <th>Unnamed: 0</th>\n",
              "      <th>Date</th>\n",
              "      <th>Month-Year</th>\n",
              "      <th>Warehouse Code</th>\n",
              "      <th>Customer Code</th>\n",
              "      <th>Order Number</th>\n",
              "      <th>Order Line Number</th>\n",
              "      <th>Item Code</th>\n",
              "      <th>Units</th>\n",
              "      <th>Euros</th>\n",
              "    </tr>\n",
              "  </thead>\n",
              "  <tbody>\n",
              "    <tr>\n",
              "      <th>0</th>\n",
              "      <td>112</td>\n",
              "      <td>2021-01-04 00:00:00.000</td>\n",
              "      <td>1-2021</td>\n",
              "      <td>3403434</td>\n",
              "      <td>5002915-15</td>\n",
              "      <td>20247100</td>\n",
              "      <td>1</td>\n",
              "      <td>963543-43</td>\n",
              "      <td>2.0</td>\n",
              "      <td>381.47</td>\n",
              "    </tr>\n",
              "    <tr>\n",
              "      <th>1</th>\n",
              "      <td>14485</td>\n",
              "      <td>2021-01-07 00:00:00.000</td>\n",
              "      <td>1-2021</td>\n",
              "      <td>3403434</td>\n",
              "      <td>5397843-43</td>\n",
              "      <td>20258239</td>\n",
              "      <td>1</td>\n",
              "      <td>8902753-53</td>\n",
              "      <td>250.0</td>\n",
              "      <td>187.03</td>\n",
              "    </tr>\n",
              "    <tr>\n",
              "      <th>2</th>\n",
              "      <td>14486</td>\n",
              "      <td>2021-01-07 00:00:00.000</td>\n",
              "      <td>1-2021</td>\n",
              "      <td>3403434</td>\n",
              "      <td>5397843-43</td>\n",
              "      <td>20258239</td>\n",
              "      <td>2</td>\n",
              "      <td>8308591-91</td>\n",
              "      <td>500.0</td>\n",
              "      <td>452.45</td>\n",
              "    </tr>\n",
              "    <tr>\n",
              "      <th>3</th>\n",
              "      <td>14487</td>\n",
              "      <td>2021-01-07 00:00:00.000</td>\n",
              "      <td>1-2021</td>\n",
              "      <td>3403434</td>\n",
              "      <td>5397843-43</td>\n",
              "      <td>20258239</td>\n",
              "      <td>3</td>\n",
              "      <td>8308621-21</td>\n",
              "      <td>500.0</td>\n",
              "      <td>452.45</td>\n",
              "    </tr>\n",
              "    <tr>\n",
              "      <th>4</th>\n",
              "      <td>14488</td>\n",
              "      <td>2021-01-07 00:00:00.000</td>\n",
              "      <td>1-2021</td>\n",
              "      <td>3403434</td>\n",
              "      <td>5397843-43</td>\n",
              "      <td>20258239</td>\n",
              "      <td>4</td>\n",
              "      <td>8022921-21</td>\n",
              "      <td>400.0</td>\n",
              "      <td>567.16</td>\n",
              "    </tr>\n",
              "  </tbody>\n",
              "</table>\n",
              "</div>"
            ],
            "text/plain": [
              "   Unnamed: 0                     Date Month-Year  Warehouse Code  \\\n",
              "0         112  2021-01-04 00:00:00.000     1-2021         3403434   \n",
              "1       14485  2021-01-07 00:00:00.000     1-2021         3403434   \n",
              "2       14486  2021-01-07 00:00:00.000     1-2021         3403434   \n",
              "3       14487  2021-01-07 00:00:00.000     1-2021         3403434   \n",
              "4       14488  2021-01-07 00:00:00.000     1-2021         3403434   \n",
              "\n",
              "  Customer Code  Order Number  Order Line Number   Item Code  Units   Euros  \n",
              "0    5002915-15      20247100                  1   963543-43    2.0  381.47  \n",
              "1    5397843-43      20258239                  1  8902753-53  250.0  187.03  \n",
              "2    5397843-43      20258239                  2  8308591-91  500.0  452.45  \n",
              "3    5397843-43      20258239                  3  8308621-21  500.0  452.45  \n",
              "4    5397843-43      20258239                  4  8022921-21  400.0  567.16  "
            ]
          },
          "execution_count": 5,
          "metadata": {},
          "output_type": "execute_result"
        }
      ],
      "source": [
        "ord_df.head(5)"
      ]
    },
    {
      "cell_type": "code",
      "execution_count": 6,
      "metadata": {
        "colab": {
          "base_uri": "https://localhost:8080/",
          "height": 418
        },
        "id": "B_eUJGMzzkIr",
        "outputId": "e1c6baea-53ea-41e6-96e6-1e01bdacb155"
      },
      "outputs": [
        {
          "data": {
            "text/plain": [
              "Unnamed: 0           0\n",
              "Date                 0\n",
              "Month-Year           0\n",
              "Warehouse Code       0\n",
              "Customer Code        0\n",
              "Order Number         0\n",
              "Order Line Number    0\n",
              "Item Code            0\n",
              "Units                0\n",
              "Euros                0\n",
              "dtype: int64"
            ]
          },
          "execution_count": 6,
          "metadata": {},
          "output_type": "execute_result"
        }
      ],
      "source": [
        "ord_df.isnull().sum()"
      ]
    },
    {
      "cell_type": "code",
      "execution_count": 7,
      "metadata": {
        "colab": {
          "base_uri": "https://localhost:8080/"
        },
        "id": "Gpmfca-rzobP",
        "outputId": "07aa1672-d580-4a60-c272-df128962c666"
      },
      "outputs": [
        {
          "data": {
            "text/plain": [
              "0"
            ]
          },
          "execution_count": 7,
          "metadata": {},
          "output_type": "execute_result"
        }
      ],
      "source": [
        "ord_df.duplicated().sum()"
      ]
    },
    {
      "cell_type": "code",
      "execution_count": 8,
      "metadata": {
        "colab": {
          "base_uri": "https://localhost:8080/"
        },
        "id": "ZY4suwldzrxO",
        "outputId": "6f9ecda8-195b-4841-c224-d53eea85eab7"
      },
      "outputs": [
        {
          "data": {
            "text/plain": [
              "0"
            ]
          },
          "execution_count": 8,
          "metadata": {},
          "output_type": "execute_result"
        }
      ],
      "source": [
        "# Dropping duplicates\n",
        "ord_df = ord_df.drop_duplicates()\n",
        "ord_df.duplicated().sum()"
      ]
    },
    {
      "cell_type": "code",
      "execution_count": 9,
      "metadata": {
        "id": "0hzcP-kEw5RE"
      },
      "outputs": [],
      "source": [
        "# Convert Date column to datetime\n",
        "ord_df['Date'] = pd.to_datetime(ord_df['Date'], errors='coerce')"
      ]
    },
    {
      "cell_type": "code",
      "execution_count": 10,
      "metadata": {
        "id": "ea6m1vnNx2tR"
      },
      "outputs": [],
      "source": [
        "# Drop unnecessary column\n",
        "ord_df=ord_df.drop(columns=['Unnamed: 0'])"
      ]
    },
    {
      "cell_type": "code",
      "execution_count": 11,
      "metadata": {
        "colab": {
          "base_uri": "https://localhost:8080/",
          "height": 226
        },
        "id": "1WCYM0Icz0Ti",
        "outputId": "ea513e71-810b-4a16-b685-2bf90d70f9ca"
      },
      "outputs": [
        {
          "data": {
            "text/html": [
              "<div>\n",
              "<style scoped>\n",
              "    .dataframe tbody tr th:only-of-type {\n",
              "        vertical-align: middle;\n",
              "    }\n",
              "\n",
              "    .dataframe tbody tr th {\n",
              "        vertical-align: top;\n",
              "    }\n",
              "\n",
              "    .dataframe thead th {\n",
              "        text-align: right;\n",
              "    }\n",
              "</style>\n",
              "<table border=\"1\" class=\"dataframe\">\n",
              "  <thead>\n",
              "    <tr style=\"text-align: right;\">\n",
              "      <th></th>\n",
              "      <th>Date</th>\n",
              "      <th>Month-Year</th>\n",
              "      <th>Warehouse Code</th>\n",
              "      <th>Customer Code</th>\n",
              "      <th>Order Number</th>\n",
              "      <th>Order Line Number</th>\n",
              "      <th>Item Code</th>\n",
              "      <th>Units</th>\n",
              "      <th>Euros</th>\n",
              "    </tr>\n",
              "  </thead>\n",
              "  <tbody>\n",
              "    <tr>\n",
              "      <th>0</th>\n",
              "      <td>2021-01-04</td>\n",
              "      <td>1-2021</td>\n",
              "      <td>3403434</td>\n",
              "      <td>5002915-15</td>\n",
              "      <td>20247100</td>\n",
              "      <td>1</td>\n",
              "      <td>963543-43</td>\n",
              "      <td>2.0</td>\n",
              "      <td>381.47</td>\n",
              "    </tr>\n",
              "    <tr>\n",
              "      <th>1</th>\n",
              "      <td>2021-01-07</td>\n",
              "      <td>1-2021</td>\n",
              "      <td>3403434</td>\n",
              "      <td>5397843-43</td>\n",
              "      <td>20258239</td>\n",
              "      <td>1</td>\n",
              "      <td>8902753-53</td>\n",
              "      <td>250.0</td>\n",
              "      <td>187.03</td>\n",
              "    </tr>\n",
              "    <tr>\n",
              "      <th>2</th>\n",
              "      <td>2021-01-07</td>\n",
              "      <td>1-2021</td>\n",
              "      <td>3403434</td>\n",
              "      <td>5397843-43</td>\n",
              "      <td>20258239</td>\n",
              "      <td>2</td>\n",
              "      <td>8308591-91</td>\n",
              "      <td>500.0</td>\n",
              "      <td>452.45</td>\n",
              "    </tr>\n",
              "    <tr>\n",
              "      <th>3</th>\n",
              "      <td>2021-01-07</td>\n",
              "      <td>1-2021</td>\n",
              "      <td>3403434</td>\n",
              "      <td>5397843-43</td>\n",
              "      <td>20258239</td>\n",
              "      <td>3</td>\n",
              "      <td>8308621-21</td>\n",
              "      <td>500.0</td>\n",
              "      <td>452.45</td>\n",
              "    </tr>\n",
              "    <tr>\n",
              "      <th>4</th>\n",
              "      <td>2021-01-07</td>\n",
              "      <td>1-2021</td>\n",
              "      <td>3403434</td>\n",
              "      <td>5397843-43</td>\n",
              "      <td>20258239</td>\n",
              "      <td>4</td>\n",
              "      <td>8022921-21</td>\n",
              "      <td>400.0</td>\n",
              "      <td>567.16</td>\n",
              "    </tr>\n",
              "  </tbody>\n",
              "</table>\n",
              "</div>"
            ],
            "text/plain": [
              "        Date Month-Year  Warehouse Code Customer Code  Order Number  \\\n",
              "0 2021-01-04     1-2021         3403434    5002915-15      20247100   \n",
              "1 2021-01-07     1-2021         3403434    5397843-43      20258239   \n",
              "2 2021-01-07     1-2021         3403434    5397843-43      20258239   \n",
              "3 2021-01-07     1-2021         3403434    5397843-43      20258239   \n",
              "4 2021-01-07     1-2021         3403434    5397843-43      20258239   \n",
              "\n",
              "   Order Line Number   Item Code  Units   Euros  \n",
              "0                  1   963543-43    2.0  381.47  \n",
              "1                  1  8902753-53  250.0  187.03  \n",
              "2                  2  8308591-91  500.0  452.45  \n",
              "3                  3  8308621-21  500.0  452.45  \n",
              "4                  4  8022921-21  400.0  567.16  "
            ]
          },
          "execution_count": 11,
          "metadata": {},
          "output_type": "execute_result"
        }
      ],
      "source": [
        "ord_df.head(5)"
      ]
    },
    {
      "cell_type": "markdown",
      "metadata": {
        "id": "DE4mCegn0GkW"
      },
      "source": [
        "Pre-processing Unit of Measure Conversions data"
      ]
    },
    {
      "cell_type": "code",
      "execution_count": 12,
      "metadata": {
        "colab": {
          "base_uri": "https://localhost:8080/"
        },
        "id": "Uvayxx8O0COM",
        "outputId": "03b0b978-29d8-42fa-aff9-05d3d19bf997"
      },
      "outputs": [
        {
          "data": {
            "text/plain": [
              "(557, 3)"
            ]
          },
          "execution_count": 12,
          "metadata": {},
          "output_type": "execute_result"
        }
      ],
      "source": [
        "uom_df.shape"
      ]
    },
    {
      "cell_type": "code",
      "execution_count": 13,
      "metadata": {
        "colab": {
          "base_uri": "https://localhost:8080/"
        },
        "id": "cz5Dg94w0faO",
        "outputId": "ce311072-45f1-4e45-8e8d-a032184e1e13"
      },
      "outputs": [
        {
          "name": "stdout",
          "output_type": "stream",
          "text": [
            "<class 'pandas.core.frame.DataFrame'>\n",
            "RangeIndex: 557 entries, 0 to 556\n",
            "Data columns (total 3 columns):\n",
            " #   Column            Non-Null Count  Dtype  \n",
            "---  ------            --------------  -----  \n",
            " 0   Unnamed: 0        557 non-null    int64  \n",
            " 1   Item Code         557 non-null    object \n",
            " 2   Conversion Ratio  557 non-null    float64\n",
            "dtypes: float64(1), int64(1), object(1)\n",
            "memory usage: 13.2+ KB\n"
          ]
        }
      ],
      "source": [
        "uom_df.info()"
      ]
    },
    {
      "cell_type": "code",
      "execution_count": 14,
      "metadata": {
        "colab": {
          "base_uri": "https://localhost:8080/",
          "height": 226
        },
        "id": "TuuAfhvX0gun",
        "outputId": "e31edc09-c49e-4abb-c506-490d0020c3db"
      },
      "outputs": [
        {
          "data": {
            "text/html": [
              "<div>\n",
              "<style scoped>\n",
              "    .dataframe tbody tr th:only-of-type {\n",
              "        vertical-align: middle;\n",
              "    }\n",
              "\n",
              "    .dataframe tbody tr th {\n",
              "        vertical-align: top;\n",
              "    }\n",
              "\n",
              "    .dataframe thead th {\n",
              "        text-align: right;\n",
              "    }\n",
              "</style>\n",
              "<table border=\"1\" class=\"dataframe\">\n",
              "  <thead>\n",
              "    <tr style=\"text-align: right;\">\n",
              "      <th></th>\n",
              "      <th>Unnamed: 0</th>\n",
              "      <th>Item Code</th>\n",
              "      <th>Conversion Ratio</th>\n",
              "    </tr>\n",
              "  </thead>\n",
              "  <tbody>\n",
              "    <tr>\n",
              "      <th>0</th>\n",
              "      <td>51</td>\n",
              "      <td>995097-97</td>\n",
              "      <td>0.0242</td>\n",
              "    </tr>\n",
              "    <tr>\n",
              "      <th>1</th>\n",
              "      <td>100</td>\n",
              "      <td>995096-96</td>\n",
              "      <td>0.0242</td>\n",
              "    </tr>\n",
              "    <tr>\n",
              "      <th>2</th>\n",
              "      <td>113</td>\n",
              "      <td>8949591-91</td>\n",
              "      <td>0.0474</td>\n",
              "    </tr>\n",
              "    <tr>\n",
              "      <th>3</th>\n",
              "      <td>131</td>\n",
              "      <td>952547-47</td>\n",
              "      <td>0.0368</td>\n",
              "    </tr>\n",
              "    <tr>\n",
              "      <th>4</th>\n",
              "      <td>276</td>\n",
              "      <td>866370-70</td>\n",
              "      <td>0.0400</td>\n",
              "    </tr>\n",
              "  </tbody>\n",
              "</table>\n",
              "</div>"
            ],
            "text/plain": [
              "   Unnamed: 0   Item Code  Conversion Ratio\n",
              "0          51   995097-97            0.0242\n",
              "1         100   995096-96            0.0242\n",
              "2         113  8949591-91            0.0474\n",
              "3         131   952547-47            0.0368\n",
              "4         276   866370-70            0.0400"
            ]
          },
          "execution_count": 14,
          "metadata": {},
          "output_type": "execute_result"
        }
      ],
      "source": [
        "uom_df.head(5)"
      ]
    },
    {
      "cell_type": "code",
      "execution_count": 15,
      "metadata": {
        "colab": {
          "base_uri": "https://localhost:8080/",
          "height": 198
        },
        "id": "A7D9pHN30ny6",
        "outputId": "0d96581f-eace-45e9-fef8-2e9c1413848d"
      },
      "outputs": [
        {
          "data": {
            "text/plain": [
              "Unnamed: 0          0\n",
              "Item Code           0\n",
              "Conversion Ratio    0\n",
              "dtype: int64"
            ]
          },
          "execution_count": 15,
          "metadata": {},
          "output_type": "execute_result"
        }
      ],
      "source": [
        "uom_df.isnull().sum()"
      ]
    },
    {
      "cell_type": "code",
      "execution_count": 16,
      "metadata": {
        "colab": {
          "base_uri": "https://localhost:8080/"
        },
        "id": "BS5QaQ431Fj6",
        "outputId": "c085f228-caad-48da-9cca-0b58b3a80f18"
      },
      "outputs": [
        {
          "data": {
            "text/plain": [
              "0"
            ]
          },
          "execution_count": 16,
          "metadata": {},
          "output_type": "execute_result"
        }
      ],
      "source": [
        "uom_df.duplicated().sum()"
      ]
    },
    {
      "cell_type": "code",
      "execution_count": 17,
      "metadata": {
        "id": "f6TXokjv1OXv"
      },
      "outputs": [],
      "source": [
        "# Drop unnecessary column\n",
        "uom_df=uom_df.drop(columns=['Unnamed: 0'])"
      ]
    },
    {
      "cell_type": "code",
      "execution_count": 18,
      "metadata": {
        "colab": {
          "base_uri": "https://localhost:8080/",
          "height": 226
        },
        "id": "ojexIulT1SDi",
        "outputId": "bfc5f15f-e90b-4153-f294-69376c001d89"
      },
      "outputs": [
        {
          "data": {
            "text/html": [
              "<div>\n",
              "<style scoped>\n",
              "    .dataframe tbody tr th:only-of-type {\n",
              "        vertical-align: middle;\n",
              "    }\n",
              "\n",
              "    .dataframe tbody tr th {\n",
              "        vertical-align: top;\n",
              "    }\n",
              "\n",
              "    .dataframe thead th {\n",
              "        text-align: right;\n",
              "    }\n",
              "</style>\n",
              "<table border=\"1\" class=\"dataframe\">\n",
              "  <thead>\n",
              "    <tr style=\"text-align: right;\">\n",
              "      <th></th>\n",
              "      <th>Item Code</th>\n",
              "      <th>Conversion Ratio</th>\n",
              "    </tr>\n",
              "  </thead>\n",
              "  <tbody>\n",
              "    <tr>\n",
              "      <th>0</th>\n",
              "      <td>995097-97</td>\n",
              "      <td>0.0242</td>\n",
              "    </tr>\n",
              "    <tr>\n",
              "      <th>1</th>\n",
              "      <td>995096-96</td>\n",
              "      <td>0.0242</td>\n",
              "    </tr>\n",
              "    <tr>\n",
              "      <th>2</th>\n",
              "      <td>8949591-91</td>\n",
              "      <td>0.0474</td>\n",
              "    </tr>\n",
              "    <tr>\n",
              "      <th>3</th>\n",
              "      <td>952547-47</td>\n",
              "      <td>0.0368</td>\n",
              "    </tr>\n",
              "    <tr>\n",
              "      <th>4</th>\n",
              "      <td>866370-70</td>\n",
              "      <td>0.0400</td>\n",
              "    </tr>\n",
              "  </tbody>\n",
              "</table>\n",
              "</div>"
            ],
            "text/plain": [
              "    Item Code  Conversion Ratio\n",
              "0   995097-97            0.0242\n",
              "1   995096-96            0.0242\n",
              "2  8949591-91            0.0474\n",
              "3   952547-47            0.0368\n",
              "4   866370-70            0.0400"
            ]
          },
          "execution_count": 18,
          "metadata": {},
          "output_type": "execute_result"
        }
      ],
      "source": [
        "uom_df.head(5)"
      ]
    },
    {
      "cell_type": "markdown",
      "metadata": {
        "id": "8H1LASdZ12O_"
      },
      "source": [
        "Pre-processing Mode of Transport data"
      ]
    },
    {
      "cell_type": "code",
      "execution_count": 19,
      "metadata": {
        "colab": {
          "base_uri": "https://localhost:8080/"
        },
        "id": "HrHrkdKb1fp5",
        "outputId": "e8c8dced-313b-4ded-9d76-8f5fa4255365"
      },
      "outputs": [
        {
          "data": {
            "text/plain": [
              "(19, 13)"
            ]
          },
          "execution_count": 19,
          "metadata": {},
          "output_type": "execute_result"
        }
      ],
      "source": [
        "dist_df.shape"
      ]
    },
    {
      "cell_type": "code",
      "execution_count": 20,
      "metadata": {
        "colab": {
          "base_uri": "https://localhost:8080/"
        },
        "id": "vX5uFtDH2FsN",
        "outputId": "05e0cadd-cb38-482a-86e5-b3429c8541c9"
      },
      "outputs": [
        {
          "name": "stdout",
          "output_type": "stream",
          "text": [
            "<class 'pandas.core.frame.DataFrame'>\n",
            "RangeIndex: 19 entries, 0 to 18\n",
            "Data columns (total 13 columns):\n",
            " #   Column             Non-Null Count  Dtype  \n",
            "---  ------             --------------  -----  \n",
            " 0   Unnamed: 0         19 non-null     int64  \n",
            " 1   Warehouse Code     19 non-null     int64  \n",
            " 2   Warehouse Name     19 non-null     object \n",
            " 3   Warehouse Country  19 non-null     object \n",
            " 4   Warehouse City     19 non-null     object \n",
            " 5   Customer Code      19 non-null     object \n",
            " 6   Customer City      19 non-null     object \n",
            " 7   Customer Country   19 non-null     object \n",
            " 8   Road               19 non-null     float64\n",
            " 9   Rail               19 non-null     int64  \n",
            " 10  Sea                19 non-null     int64  \n",
            " 11  Air                19 non-null     int64  \n",
            " 12  total_dist         19 non-null     float64\n",
            "dtypes: float64(2), int64(5), object(6)\n",
            "memory usage: 2.1+ KB\n"
          ]
        }
      ],
      "source": [
        "dist_df.info()"
      ]
    },
    {
      "cell_type": "code",
      "execution_count": 21,
      "metadata": {
        "colab": {
          "base_uri": "https://localhost:8080/",
          "height": 512
        },
        "id": "w6ZxJSDC2G4n",
        "outputId": "38c41311-f442-4e4b-c56f-79675b48f435"
      },
      "outputs": [
        {
          "data": {
            "text/plain": [
              "Unnamed: 0           0\n",
              "Warehouse Code       0\n",
              "Warehouse Name       0\n",
              "Warehouse Country    0\n",
              "Warehouse City       0\n",
              "Customer Code        0\n",
              "Customer City        0\n",
              "Customer Country     0\n",
              "Road                 0\n",
              "Rail                 0\n",
              "Sea                  0\n",
              "Air                  0\n",
              "total_dist           0\n",
              "dtype: int64"
            ]
          },
          "execution_count": 21,
          "metadata": {},
          "output_type": "execute_result"
        }
      ],
      "source": [
        "dist_df.isnull().sum()"
      ]
    },
    {
      "cell_type": "code",
      "execution_count": 22,
      "metadata": {
        "colab": {
          "base_uri": "https://localhost:8080/"
        },
        "id": "HjQIr3Vw2KoM",
        "outputId": "2526b220-bb57-430d-ee34-ed7742b36698"
      },
      "outputs": [
        {
          "data": {
            "text/plain": [
              "0"
            ]
          },
          "execution_count": 22,
          "metadata": {},
          "output_type": "execute_result"
        }
      ],
      "source": [
        "dist_df.duplicated().sum()"
      ]
    },
    {
      "cell_type": "code",
      "execution_count": 23,
      "metadata": {
        "id": "HxQWLp3x2zjt"
      },
      "outputs": [],
      "source": [
        "# Feature Engineering: Creating a new 'Location' column by combining 'Customer City' and 'Customer Country'\n",
        "dist_df['Location'] = dist_df['Customer City'].astype(str) + ', ' + dist_df['Customer Country'].astype(str)\n",
        "dist_df['Location'] = dist_df['Location'].str.strip()"
      ]
    },
    {
      "cell_type": "code",
      "execution_count": 24,
      "metadata": {
        "id": "yQYMhKmWwsju"
      },
      "outputs": [],
      "source": [
        "coordinates = {\n",
        "    'CHALONS-EN-CHAMPAGNE': (48.9575, 4.3650),\n",
        "    'MONTMIRAIL': (48.8702, 3.5371)\n",
        "}\n",
        "\n",
        "# Create a new column with coordinates based on the city names\n",
        "dist_df['Coordinates'] = dist_df['Warehouse City'].map(coordinates)\n",
        "\n",
        "# Split the 'Coordinates' column into two new columns\n",
        "dist_df[['Warehouse_Latitude', 'Warehouse_Longitude']] = pd.DataFrame(dist_df['Coordinates'].tolist(), index=dist_df.index)\n",
        "\n",
        "# Drop the original 'Coordinates' column if you no longer need it\n",
        "dist_df.drop(columns=['Coordinates'], inplace=True)"
      ]
    },
    {
      "cell_type": "code",
      "execution_count": 25,
      "metadata": {
        "colab": {
          "base_uri": "https://localhost:8080/",
          "height": 417
        },
        "id": "rliIsVu8w_Oh",
        "outputId": "a3739981-db4a-4ffa-9a35-5263addcc72c"
      },
      "outputs": [
        {
          "data": {
            "text/html": [
              "<div>\n",
              "<style scoped>\n",
              "    .dataframe tbody tr th:only-of-type {\n",
              "        vertical-align: middle;\n",
              "    }\n",
              "\n",
              "    .dataframe tbody tr th {\n",
              "        vertical-align: top;\n",
              "    }\n",
              "\n",
              "    .dataframe thead th {\n",
              "        text-align: right;\n",
              "    }\n",
              "</style>\n",
              "<table border=\"1\" class=\"dataframe\">\n",
              "  <thead>\n",
              "    <tr style=\"text-align: right;\">\n",
              "      <th></th>\n",
              "      <th>Unnamed: 0</th>\n",
              "      <th>Warehouse Code</th>\n",
              "      <th>Warehouse Name</th>\n",
              "      <th>Warehouse Country</th>\n",
              "      <th>Warehouse City</th>\n",
              "      <th>Customer Code</th>\n",
              "      <th>Customer City</th>\n",
              "      <th>Customer Country</th>\n",
              "      <th>Road</th>\n",
              "      <th>Rail</th>\n",
              "      <th>Sea</th>\n",
              "      <th>Air</th>\n",
              "      <th>total_dist</th>\n",
              "      <th>Location</th>\n",
              "      <th>Warehouse_Latitude</th>\n",
              "      <th>Warehouse_Longitude</th>\n",
              "    </tr>\n",
              "  </thead>\n",
              "  <tbody>\n",
              "    <tr>\n",
              "      <th>0</th>\n",
              "      <td>19</td>\n",
              "      <td>3403434</td>\n",
              "      <td>WAREHOUSE PARIS AREA 1</td>\n",
              "      <td>FRANCE</td>\n",
              "      <td>CHALONS-EN-CHAMPAGNE</td>\n",
              "      <td>5002915-15</td>\n",
              "      <td>Lisbon</td>\n",
              "      <td>Portugal</td>\n",
              "      <td>765.728</td>\n",
              "      <td>0</td>\n",
              "      <td>0</td>\n",
              "      <td>660</td>\n",
              "      <td>1425.728</td>\n",
              "      <td>Lisbon, Portugal</td>\n",
              "      <td>48.9575</td>\n",
              "      <td>4.365</td>\n",
              "    </tr>\n",
              "    <tr>\n",
              "      <th>1</th>\n",
              "      <td>610</td>\n",
              "      <td>3403434</td>\n",
              "      <td>WAREHOUSE PARIS AREA 1</td>\n",
              "      <td>FRANCE</td>\n",
              "      <td>CHALONS-EN-CHAMPAGNE</td>\n",
              "      <td>5397843-43</td>\n",
              "      <td>Barcelona</td>\n",
              "      <td>Spain</td>\n",
              "      <td>281.488</td>\n",
              "      <td>0</td>\n",
              "      <td>0</td>\n",
              "      <td>951</td>\n",
              "      <td>1232.488</td>\n",
              "      <td>Barcelona, Spain</td>\n",
              "      <td>48.9575</td>\n",
              "      <td>4.365</td>\n",
              "    </tr>\n",
              "    <tr>\n",
              "      <th>2</th>\n",
              "      <td>676</td>\n",
              "      <td>3403434</td>\n",
              "      <td>WAREHOUSE PARIS AREA 1</td>\n",
              "      <td>FRANCE</td>\n",
              "      <td>CHALONS-EN-CHAMPAGNE</td>\n",
              "      <td>5340669-69</td>\n",
              "      <td>Ålesund</td>\n",
              "      <td>Norway</td>\n",
              "      <td>856.000</td>\n",
              "      <td>0</td>\n",
              "      <td>1154</td>\n",
              "      <td>0</td>\n",
              "      <td>2010.000</td>\n",
              "      <td>Ålesund, Norway</td>\n",
              "      <td>48.9575</td>\n",
              "      <td>4.365</td>\n",
              "    </tr>\n",
              "    <tr>\n",
              "      <th>3</th>\n",
              "      <td>682</td>\n",
              "      <td>3403434</td>\n",
              "      <td>WAREHOUSE PARIS AREA 1</td>\n",
              "      <td>FRANCE</td>\n",
              "      <td>CHALONS-EN-CHAMPAGNE</td>\n",
              "      <td>5340672-72</td>\n",
              "      <td>Stavanger</td>\n",
              "      <td>Norway</td>\n",
              "      <td>82.694</td>\n",
              "      <td>0</td>\n",
              "      <td>1296</td>\n",
              "      <td>0</td>\n",
              "      <td>1378.694</td>\n",
              "      <td>Stavanger, Norway</td>\n",
              "      <td>48.9575</td>\n",
              "      <td>4.365</td>\n",
              "    </tr>\n",
              "    <tr>\n",
              "      <th>4</th>\n",
              "      <td>1375</td>\n",
              "      <td>3403434</td>\n",
              "      <td>WAREHOUSE PARIS AREA 1</td>\n",
              "      <td>FRANCE</td>\n",
              "      <td>CHALONS-EN-CHAMPAGNE</td>\n",
              "      <td>5029913-13</td>\n",
              "      <td>San Marino</td>\n",
              "      <td>Italy</td>\n",
              "      <td>288.437</td>\n",
              "      <td>0</td>\n",
              "      <td>0</td>\n",
              "      <td>908</td>\n",
              "      <td>1196.437</td>\n",
              "      <td>San Marino, Italy</td>\n",
              "      <td>48.9575</td>\n",
              "      <td>4.365</td>\n",
              "    </tr>\n",
              "  </tbody>\n",
              "</table>\n",
              "</div>"
            ],
            "text/plain": [
              "   Unnamed: 0  Warehouse Code          Warehouse Name Warehouse Country  \\\n",
              "0          19         3403434  WAREHOUSE PARIS AREA 1            FRANCE   \n",
              "1         610         3403434  WAREHOUSE PARIS AREA 1            FRANCE   \n",
              "2         676         3403434  WAREHOUSE PARIS AREA 1            FRANCE   \n",
              "3         682         3403434  WAREHOUSE PARIS AREA 1            FRANCE   \n",
              "4        1375         3403434  WAREHOUSE PARIS AREA 1            FRANCE   \n",
              "\n",
              "         Warehouse City Customer Code Customer City Customer Country     Road  \\\n",
              "0  CHALONS-EN-CHAMPAGNE    5002915-15        Lisbon         Portugal  765.728   \n",
              "1  CHALONS-EN-CHAMPAGNE    5397843-43     Barcelona            Spain  281.488   \n",
              "2  CHALONS-EN-CHAMPAGNE    5340669-69       Ålesund           Norway  856.000   \n",
              "3  CHALONS-EN-CHAMPAGNE    5340672-72     Stavanger           Norway   82.694   \n",
              "4  CHALONS-EN-CHAMPAGNE    5029913-13    San Marino            Italy  288.437   \n",
              "\n",
              "   Rail   Sea  Air  total_dist           Location  Warehouse_Latitude  \\\n",
              "0     0     0  660    1425.728   Lisbon, Portugal             48.9575   \n",
              "1     0     0  951    1232.488   Barcelona, Spain             48.9575   \n",
              "2     0  1154    0    2010.000    Ålesund, Norway             48.9575   \n",
              "3     0  1296    0    1378.694  Stavanger, Norway             48.9575   \n",
              "4     0     0  908    1196.437  San Marino, Italy             48.9575   \n",
              "\n",
              "   Warehouse_Longitude  \n",
              "0                4.365  \n",
              "1                4.365  \n",
              "2                4.365  \n",
              "3                4.365  \n",
              "4                4.365  "
            ]
          },
          "execution_count": 25,
          "metadata": {},
          "output_type": "execute_result"
        }
      ],
      "source": [
        "dist_df.head(5)"
      ]
    },
    {
      "cell_type": "code",
      "execution_count": 26,
      "metadata": {
        "id": "lDX9sw0O3CiE"
      },
      "outputs": [],
      "source": [
        "# Drop unnecessary columns\n",
        "dist_df=dist_df.drop(columns=['Unnamed: 0','Customer City','Customer Country'])"
      ]
    },
    {
      "cell_type": "code",
      "execution_count": 27,
      "metadata": {
        "colab": {
          "base_uri": "https://localhost:8080/",
          "height": 1000
        },
        "id": "yPEthNQo2UP2",
        "outputId": "1d281f5f-85e0-44a0-a266-ca523be8cd43"
      },
      "outputs": [
        {
          "data": {
            "text/html": [
              "<div>\n",
              "<style scoped>\n",
              "    .dataframe tbody tr th:only-of-type {\n",
              "        vertical-align: middle;\n",
              "    }\n",
              "\n",
              "    .dataframe tbody tr th {\n",
              "        vertical-align: top;\n",
              "    }\n",
              "\n",
              "    .dataframe thead th {\n",
              "        text-align: right;\n",
              "    }\n",
              "</style>\n",
              "<table border=\"1\" class=\"dataframe\">\n",
              "  <thead>\n",
              "    <tr style=\"text-align: right;\">\n",
              "      <th></th>\n",
              "      <th>Warehouse Code</th>\n",
              "      <th>Warehouse Name</th>\n",
              "      <th>Warehouse Country</th>\n",
              "      <th>Warehouse City</th>\n",
              "      <th>Customer Code</th>\n",
              "      <th>Road</th>\n",
              "      <th>Rail</th>\n",
              "      <th>Sea</th>\n",
              "      <th>Air</th>\n",
              "      <th>total_dist</th>\n",
              "      <th>Location</th>\n",
              "      <th>Warehouse_Latitude</th>\n",
              "      <th>Warehouse_Longitude</th>\n",
              "    </tr>\n",
              "  </thead>\n",
              "  <tbody>\n",
              "    <tr>\n",
              "      <th>0</th>\n",
              "      <td>3403434</td>\n",
              "      <td>WAREHOUSE PARIS AREA 1</td>\n",
              "      <td>FRANCE</td>\n",
              "      <td>CHALONS-EN-CHAMPAGNE</td>\n",
              "      <td>5002915-15</td>\n",
              "      <td>765.728</td>\n",
              "      <td>0</td>\n",
              "      <td>0</td>\n",
              "      <td>660</td>\n",
              "      <td>1425.728</td>\n",
              "      <td>Lisbon, Portugal</td>\n",
              "      <td>48.9575</td>\n",
              "      <td>4.3650</td>\n",
              "    </tr>\n",
              "    <tr>\n",
              "      <th>1</th>\n",
              "      <td>3403434</td>\n",
              "      <td>WAREHOUSE PARIS AREA 1</td>\n",
              "      <td>FRANCE</td>\n",
              "      <td>CHALONS-EN-CHAMPAGNE</td>\n",
              "      <td>5397843-43</td>\n",
              "      <td>281.488</td>\n",
              "      <td>0</td>\n",
              "      <td>0</td>\n",
              "      <td>951</td>\n",
              "      <td>1232.488</td>\n",
              "      <td>Barcelona, Spain</td>\n",
              "      <td>48.9575</td>\n",
              "      <td>4.3650</td>\n",
              "    </tr>\n",
              "    <tr>\n",
              "      <th>2</th>\n",
              "      <td>3403434</td>\n",
              "      <td>WAREHOUSE PARIS AREA 1</td>\n",
              "      <td>FRANCE</td>\n",
              "      <td>CHALONS-EN-CHAMPAGNE</td>\n",
              "      <td>5340669-69</td>\n",
              "      <td>856.000</td>\n",
              "      <td>0</td>\n",
              "      <td>1154</td>\n",
              "      <td>0</td>\n",
              "      <td>2010.000</td>\n",
              "      <td>Ålesund, Norway</td>\n",
              "      <td>48.9575</td>\n",
              "      <td>4.3650</td>\n",
              "    </tr>\n",
              "    <tr>\n",
              "      <th>3</th>\n",
              "      <td>3403434</td>\n",
              "      <td>WAREHOUSE PARIS AREA 1</td>\n",
              "      <td>FRANCE</td>\n",
              "      <td>CHALONS-EN-CHAMPAGNE</td>\n",
              "      <td>5340672-72</td>\n",
              "      <td>82.694</td>\n",
              "      <td>0</td>\n",
              "      <td>1296</td>\n",
              "      <td>0</td>\n",
              "      <td>1378.694</td>\n",
              "      <td>Stavanger, Norway</td>\n",
              "      <td>48.9575</td>\n",
              "      <td>4.3650</td>\n",
              "    </tr>\n",
              "    <tr>\n",
              "      <th>4</th>\n",
              "      <td>3403434</td>\n",
              "      <td>WAREHOUSE PARIS AREA 1</td>\n",
              "      <td>FRANCE</td>\n",
              "      <td>CHALONS-EN-CHAMPAGNE</td>\n",
              "      <td>5029913-13</td>\n",
              "      <td>288.437</td>\n",
              "      <td>0</td>\n",
              "      <td>0</td>\n",
              "      <td>908</td>\n",
              "      <td>1196.437</td>\n",
              "      <td>San Marino, Italy</td>\n",
              "      <td>48.9575</td>\n",
              "      <td>4.3650</td>\n",
              "    </tr>\n",
              "    <tr>\n",
              "      <th>5</th>\n",
              "      <td>3403434</td>\n",
              "      <td>WAREHOUSE PARIS AREA 1</td>\n",
              "      <td>FRANCE</td>\n",
              "      <td>CHALONS-EN-CHAMPAGNE</td>\n",
              "      <td>5003451-51</td>\n",
              "      <td>295.165</td>\n",
              "      <td>0</td>\n",
              "      <td>0</td>\n",
              "      <td>874</td>\n",
              "      <td>1169.165</td>\n",
              "      <td>Bratislava, Slovakia</td>\n",
              "      <td>48.9575</td>\n",
              "      <td>4.3650</td>\n",
              "    </tr>\n",
              "    <tr>\n",
              "      <th>6</th>\n",
              "      <td>3403434</td>\n",
              "      <td>WAREHOUSE PARIS AREA 1</td>\n",
              "      <td>FRANCE</td>\n",
              "      <td>CHALONS-EN-CHAMPAGNE</td>\n",
              "      <td>5293132-32</td>\n",
              "      <td>353.590</td>\n",
              "      <td>0</td>\n",
              "      <td>0</td>\n",
              "      <td>840</td>\n",
              "      <td>1193.590</td>\n",
              "      <td>Vienna, Austria</td>\n",
              "      <td>48.9575</td>\n",
              "      <td>4.3650</td>\n",
              "    </tr>\n",
              "    <tr>\n",
              "      <th>7</th>\n",
              "      <td>3403434</td>\n",
              "      <td>WAREHOUSE PARIS AREA 1</td>\n",
              "      <td>FRANCE</td>\n",
              "      <td>CHALONS-EN-CHAMPAGNE</td>\n",
              "      <td>5003269-69</td>\n",
              "      <td>478.723</td>\n",
              "      <td>0</td>\n",
              "      <td>0</td>\n",
              "      <td>777</td>\n",
              "      <td>1255.723</td>\n",
              "      <td>Ostrava, Czech Republic</td>\n",
              "      <td>48.9575</td>\n",
              "      <td>4.3650</td>\n",
              "    </tr>\n",
              "    <tr>\n",
              "      <th>8</th>\n",
              "      <td>3403434</td>\n",
              "      <td>WAREHOUSE PARIS AREA 1</td>\n",
              "      <td>FRANCE</td>\n",
              "      <td>CHALONS-EN-CHAMPAGNE</td>\n",
              "      <td>5003474-74</td>\n",
              "      <td>287.110</td>\n",
              "      <td>0</td>\n",
              "      <td>0</td>\n",
              "      <td>856</td>\n",
              "      <td>1143.110</td>\n",
              "      <td>Budapest, Hungary</td>\n",
              "      <td>48.9575</td>\n",
              "      <td>4.3650</td>\n",
              "    </tr>\n",
              "    <tr>\n",
              "      <th>9</th>\n",
              "      <td>3403434</td>\n",
              "      <td>WAREHOUSE PARIS AREA 1</td>\n",
              "      <td>FRANCE</td>\n",
              "      <td>CHALONS-EN-CHAMPAGNE</td>\n",
              "      <td>5003476-76</td>\n",
              "      <td>84.851</td>\n",
              "      <td>0</td>\n",
              "      <td>0</td>\n",
              "      <td>341</td>\n",
              "      <td>425.851</td>\n",
              "      <td>Amsterdam, Netherlands</td>\n",
              "      <td>48.9575</td>\n",
              "      <td>4.3650</td>\n",
              "    </tr>\n",
              "    <tr>\n",
              "      <th>10</th>\n",
              "      <td>3403434</td>\n",
              "      <td>WAREHOUSE PARIS AREA 1</td>\n",
              "      <td>FRANCE</td>\n",
              "      <td>CHALONS-EN-CHAMPAGNE</td>\n",
              "      <td>115-15</td>\n",
              "      <td>293.858</td>\n",
              "      <td>0</td>\n",
              "      <td>0</td>\n",
              "      <td>871</td>\n",
              "      <td>1164.858</td>\n",
              "      <td>Glasgow, United Kingdom</td>\n",
              "      <td>48.9575</td>\n",
              "      <td>4.3650</td>\n",
              "    </tr>\n",
              "    <tr>\n",
              "      <th>11</th>\n",
              "      <td>3403434</td>\n",
              "      <td>WAREHOUSE PARIS AREA 1</td>\n",
              "      <td>FRANCE</td>\n",
              "      <td>CHALONS-EN-CHAMPAGNE</td>\n",
              "      <td>5006517-17</td>\n",
              "      <td>256.250</td>\n",
              "      <td>0</td>\n",
              "      <td>0</td>\n",
              "      <td>671</td>\n",
              "      <td>927.250</td>\n",
              "      <td>Berlin, Germany</td>\n",
              "      <td>48.9575</td>\n",
              "      <td>4.3650</td>\n",
              "    </tr>\n",
              "    <tr>\n",
              "      <th>12</th>\n",
              "      <td>3403434</td>\n",
              "      <td>WAREHOUSE PARIS AREA 1</td>\n",
              "      <td>FRANCE</td>\n",
              "      <td>CHALONS-EN-CHAMPAGNE</td>\n",
              "      <td>5335348-48</td>\n",
              "      <td>626.000</td>\n",
              "      <td>0</td>\n",
              "      <td>1165</td>\n",
              "      <td>0</td>\n",
              "      <td>1791.000</td>\n",
              "      <td>Tampere, Finland</td>\n",
              "      <td>48.9575</td>\n",
              "      <td>4.3650</td>\n",
              "    </tr>\n",
              "    <tr>\n",
              "      <th>13</th>\n",
              "      <td>3403434</td>\n",
              "      <td>WAREHOUSE PARIS AREA 1</td>\n",
              "      <td>FRANCE</td>\n",
              "      <td>CHALONS-EN-CHAMPAGNE</td>\n",
              "      <td>9001746-46</td>\n",
              "      <td>357.151</td>\n",
              "      <td>0</td>\n",
              "      <td>1060</td>\n",
              "      <td>0</td>\n",
              "      <td>1417.151</td>\n",
              "      <td>Dublin, Ireland</td>\n",
              "      <td>48.9575</td>\n",
              "      <td>4.3650</td>\n",
              "    </tr>\n",
              "    <tr>\n",
              "      <th>14</th>\n",
              "      <td>3403434</td>\n",
              "      <td>WAREHOUSE PARIS AREA 1</td>\n",
              "      <td>FRANCE</td>\n",
              "      <td>CHALONS-EN-CHAMPAGNE</td>\n",
              "      <td>9066250-50</td>\n",
              "      <td>667.613</td>\n",
              "      <td>0</td>\n",
              "      <td>1295</td>\n",
              "      <td>0</td>\n",
              "      <td>1962.613</td>\n",
              "      <td>Stockholm, Sweden</td>\n",
              "      <td>48.9575</td>\n",
              "      <td>4.3650</td>\n",
              "    </tr>\n",
              "    <tr>\n",
              "      <th>15</th>\n",
              "      <td>3403434</td>\n",
              "      <td>WAREHOUSE PARIS AREA 1</td>\n",
              "      <td>FRANCE</td>\n",
              "      <td>CHALONS-EN-CHAMPAGNE</td>\n",
              "      <td>5334855-55</td>\n",
              "      <td>409.000</td>\n",
              "      <td>671</td>\n",
              "      <td>44</td>\n",
              "      <td>0</td>\n",
              "      <td>1124.000</td>\n",
              "      <td>Edinburgh, United Kingdom</td>\n",
              "      <td>48.9575</td>\n",
              "      <td>4.3650</td>\n",
              "    </tr>\n",
              "    <tr>\n",
              "      <th>16</th>\n",
              "      <td>3403434</td>\n",
              "      <td>WAREHOUSE PARIS AREA 1</td>\n",
              "      <td>FRANCE</td>\n",
              "      <td>CHALONS-EN-CHAMPAGNE</td>\n",
              "      <td>5494889-89</td>\n",
              "      <td>268.336</td>\n",
              "      <td>0</td>\n",
              "      <td>1200</td>\n",
              "      <td>0</td>\n",
              "      <td>1468.336</td>\n",
              "      <td>Cork, Ireland</td>\n",
              "      <td>48.9575</td>\n",
              "      <td>4.3650</td>\n",
              "    </tr>\n",
              "    <tr>\n",
              "      <th>17</th>\n",
              "      <td>3403434</td>\n",
              "      <td>WAREHOUSE PARIS AREA 1</td>\n",
              "      <td>FRANCE</td>\n",
              "      <td>CHALONS-EN-CHAMPAGNE</td>\n",
              "      <td>5262267-67</td>\n",
              "      <td>300.000</td>\n",
              "      <td>0</td>\n",
              "      <td>3739</td>\n",
              "      <td>995</td>\n",
              "      <td>5034.000</td>\n",
              "      <td>Boston, USA</td>\n",
              "      <td>48.9575</td>\n",
              "      <td>4.3650</td>\n",
              "    </tr>\n",
              "    <tr>\n",
              "      <th>18</th>\n",
              "      <td>3402002</td>\n",
              "      <td>WAREHOUSE PARIS AREA 2</td>\n",
              "      <td>FRANCE</td>\n",
              "      <td>MONTMIRAIL</td>\n",
              "      <td>5486697-97</td>\n",
              "      <td>2163.000</td>\n",
              "      <td>0</td>\n",
              "      <td>1420</td>\n",
              "      <td>0</td>\n",
              "      <td>3583.000</td>\n",
              "      <td>Athens, Greece</td>\n",
              "      <td>48.8702</td>\n",
              "      <td>3.5371</td>\n",
              "    </tr>\n",
              "  </tbody>\n",
              "</table>\n",
              "</div>"
            ],
            "text/plain": [
              "    Warehouse Code          Warehouse Name Warehouse Country  \\\n",
              "0          3403434  WAREHOUSE PARIS AREA 1            FRANCE   \n",
              "1          3403434  WAREHOUSE PARIS AREA 1            FRANCE   \n",
              "2          3403434  WAREHOUSE PARIS AREA 1            FRANCE   \n",
              "3          3403434  WAREHOUSE PARIS AREA 1            FRANCE   \n",
              "4          3403434  WAREHOUSE PARIS AREA 1            FRANCE   \n",
              "5          3403434  WAREHOUSE PARIS AREA 1            FRANCE   \n",
              "6          3403434  WAREHOUSE PARIS AREA 1            FRANCE   \n",
              "7          3403434  WAREHOUSE PARIS AREA 1            FRANCE   \n",
              "8          3403434  WAREHOUSE PARIS AREA 1            FRANCE   \n",
              "9          3403434  WAREHOUSE PARIS AREA 1            FRANCE   \n",
              "10         3403434  WAREHOUSE PARIS AREA 1            FRANCE   \n",
              "11         3403434  WAREHOUSE PARIS AREA 1            FRANCE   \n",
              "12         3403434  WAREHOUSE PARIS AREA 1            FRANCE   \n",
              "13         3403434  WAREHOUSE PARIS AREA 1            FRANCE   \n",
              "14         3403434  WAREHOUSE PARIS AREA 1            FRANCE   \n",
              "15         3403434  WAREHOUSE PARIS AREA 1            FRANCE   \n",
              "16         3403434  WAREHOUSE PARIS AREA 1            FRANCE   \n",
              "17         3403434  WAREHOUSE PARIS AREA 1            FRANCE   \n",
              "18         3402002  WAREHOUSE PARIS AREA 2            FRANCE   \n",
              "\n",
              "          Warehouse City Customer Code      Road  Rail   Sea  Air  total_dist  \\\n",
              "0   CHALONS-EN-CHAMPAGNE    5002915-15   765.728     0     0  660    1425.728   \n",
              "1   CHALONS-EN-CHAMPAGNE    5397843-43   281.488     0     0  951    1232.488   \n",
              "2   CHALONS-EN-CHAMPAGNE    5340669-69   856.000     0  1154    0    2010.000   \n",
              "3   CHALONS-EN-CHAMPAGNE    5340672-72    82.694     0  1296    0    1378.694   \n",
              "4   CHALONS-EN-CHAMPAGNE    5029913-13   288.437     0     0  908    1196.437   \n",
              "5   CHALONS-EN-CHAMPAGNE    5003451-51   295.165     0     0  874    1169.165   \n",
              "6   CHALONS-EN-CHAMPAGNE    5293132-32   353.590     0     0  840    1193.590   \n",
              "7   CHALONS-EN-CHAMPAGNE    5003269-69   478.723     0     0  777    1255.723   \n",
              "8   CHALONS-EN-CHAMPAGNE    5003474-74   287.110     0     0  856    1143.110   \n",
              "9   CHALONS-EN-CHAMPAGNE    5003476-76    84.851     0     0  341     425.851   \n",
              "10  CHALONS-EN-CHAMPAGNE        115-15   293.858     0     0  871    1164.858   \n",
              "11  CHALONS-EN-CHAMPAGNE    5006517-17   256.250     0     0  671     927.250   \n",
              "12  CHALONS-EN-CHAMPAGNE    5335348-48   626.000     0  1165    0    1791.000   \n",
              "13  CHALONS-EN-CHAMPAGNE    9001746-46   357.151     0  1060    0    1417.151   \n",
              "14  CHALONS-EN-CHAMPAGNE    9066250-50   667.613     0  1295    0    1962.613   \n",
              "15  CHALONS-EN-CHAMPAGNE    5334855-55   409.000   671    44    0    1124.000   \n",
              "16  CHALONS-EN-CHAMPAGNE    5494889-89   268.336     0  1200    0    1468.336   \n",
              "17  CHALONS-EN-CHAMPAGNE    5262267-67   300.000     0  3739  995    5034.000   \n",
              "18            MONTMIRAIL    5486697-97  2163.000     0  1420    0    3583.000   \n",
              "\n",
              "                     Location  Warehouse_Latitude  Warehouse_Longitude  \n",
              "0            Lisbon, Portugal             48.9575               4.3650  \n",
              "1            Barcelona, Spain             48.9575               4.3650  \n",
              "2             Ålesund, Norway             48.9575               4.3650  \n",
              "3           Stavanger, Norway             48.9575               4.3650  \n",
              "4           San Marino, Italy             48.9575               4.3650  \n",
              "5        Bratislava, Slovakia             48.9575               4.3650  \n",
              "6             Vienna, Austria             48.9575               4.3650  \n",
              "7     Ostrava, Czech Republic             48.9575               4.3650  \n",
              "8           Budapest, Hungary             48.9575               4.3650  \n",
              "9      Amsterdam, Netherlands             48.9575               4.3650  \n",
              "10    Glasgow, United Kingdom             48.9575               4.3650  \n",
              "11            Berlin, Germany             48.9575               4.3650  \n",
              "12           Tampere, Finland             48.9575               4.3650  \n",
              "13            Dublin, Ireland             48.9575               4.3650  \n",
              "14          Stockholm, Sweden             48.9575               4.3650  \n",
              "15  Edinburgh, United Kingdom             48.9575               4.3650  \n",
              "16              Cork, Ireland             48.9575               4.3650  \n",
              "17                Boston, USA             48.9575               4.3650  \n",
              "18             Athens, Greece             48.8702               3.5371  "
            ]
          },
          "execution_count": 27,
          "metadata": {},
          "output_type": "execute_result"
        }
      ],
      "source": [
        "dist_df"
      ]
    },
    {
      "cell_type": "markdown",
      "metadata": {
        "id": "b_CLbzvY2hDt"
      },
      "source": [
        "Pre-processing GPS data"
      ]
    },
    {
      "cell_type": "code",
      "execution_count": 28,
      "metadata": {
        "colab": {
          "base_uri": "https://localhost:8080/"
        },
        "id": "2vDAzzJD2aWS",
        "outputId": "8e3fe41a-4d80-4088-af92-be3733f916f6"
      },
      "outputs": [
        {
          "data": {
            "text/plain": [
              "(19, 4)"
            ]
          },
          "execution_count": 28,
          "metadata": {},
          "output_type": "execute_result"
        }
      ],
      "source": [
        "gps_df.shape"
      ]
    },
    {
      "cell_type": "code",
      "execution_count": 29,
      "metadata": {
        "colab": {
          "base_uri": "https://localhost:8080/"
        },
        "id": "7gEdAZkm4PoB",
        "outputId": "33625a99-cd84-45f9-a892-10d97d776459"
      },
      "outputs": [
        {
          "name": "stdout",
          "output_type": "stream",
          "text": [
            "<class 'pandas.core.frame.DataFrame'>\n",
            "RangeIndex: 19 entries, 0 to 18\n",
            "Data columns (total 4 columns):\n",
            " #   Column      Non-Null Count  Dtype  \n",
            "---  ------      --------------  -----  \n",
            " 0   Unnamed: 0  19 non-null     int64  \n",
            " 1   Location    19 non-null     object \n",
            " 2   Latitude    19 non-null     float64\n",
            " 3   Longitude   19 non-null     float64\n",
            "dtypes: float64(2), int64(1), object(1)\n",
            "memory usage: 736.0+ bytes\n"
          ]
        }
      ],
      "source": [
        "gps_df.info()"
      ]
    },
    {
      "cell_type": "code",
      "execution_count": 30,
      "metadata": {
        "colab": {
          "base_uri": "https://localhost:8080/",
          "height": 229
        },
        "id": "lqTjEtV94S04",
        "outputId": "ddc9b217-ac10-4d0e-d992-26e61a6bf2ce"
      },
      "outputs": [
        {
          "data": {
            "text/plain": [
              "Unnamed: 0    0\n",
              "Location      0\n",
              "Latitude      0\n",
              "Longitude     0\n",
              "dtype: int64"
            ]
          },
          "execution_count": 30,
          "metadata": {},
          "output_type": "execute_result"
        }
      ],
      "source": [
        "gps_df.isnull().sum()"
      ]
    },
    {
      "cell_type": "code",
      "execution_count": 31,
      "metadata": {
        "colab": {
          "base_uri": "https://localhost:8080/"
        },
        "id": "4yCt-GXw4W7u",
        "outputId": "5582612b-d1bb-4359-a8aa-7433dd6677fe"
      },
      "outputs": [
        {
          "data": {
            "text/plain": [
              "0"
            ]
          },
          "execution_count": 31,
          "metadata": {},
          "output_type": "execute_result"
        }
      ],
      "source": [
        "gps_df.duplicated().sum()"
      ]
    },
    {
      "cell_type": "code",
      "execution_count": 32,
      "metadata": {
        "id": "coEvQRWK4bHG"
      },
      "outputs": [],
      "source": [
        "gps_df['Location'] = gps_df['Location'].str.strip()"
      ]
    },
    {
      "cell_type": "code",
      "execution_count": 33,
      "metadata": {
        "id": "ma6KoFBHxORR"
      },
      "outputs": [],
      "source": [
        "# Drop unnecessary column\n",
        "gps_df=gps_df.drop(columns=['Unnamed: 0'])"
      ]
    },
    {
      "cell_type": "code",
      "execution_count": 34,
      "metadata": {
        "colab": {
          "base_uri": "https://localhost:8080/",
          "height": 226
        },
        "id": "qGv90_yP4oMI",
        "outputId": "229511f6-1edc-4b66-9ca2-f5104278c1d5"
      },
      "outputs": [
        {
          "data": {
            "text/html": [
              "<div>\n",
              "<style scoped>\n",
              "    .dataframe tbody tr th:only-of-type {\n",
              "        vertical-align: middle;\n",
              "    }\n",
              "\n",
              "    .dataframe tbody tr th {\n",
              "        vertical-align: top;\n",
              "    }\n",
              "\n",
              "    .dataframe thead th {\n",
              "        text-align: right;\n",
              "    }\n",
              "</style>\n",
              "<table border=\"1\" class=\"dataframe\">\n",
              "  <thead>\n",
              "    <tr style=\"text-align: right;\">\n",
              "      <th></th>\n",
              "      <th>Location</th>\n",
              "      <th>Latitude</th>\n",
              "      <th>Longitude</th>\n",
              "    </tr>\n",
              "  </thead>\n",
              "  <tbody>\n",
              "    <tr>\n",
              "      <th>0</th>\n",
              "      <td>Lisbon, Portugal</td>\n",
              "      <td>38.7167</td>\n",
              "      <td>-9.1390</td>\n",
              "    </tr>\n",
              "    <tr>\n",
              "      <th>1</th>\n",
              "      <td>Barcelona, Spain</td>\n",
              "      <td>41.3851</td>\n",
              "      <td>2.1734</td>\n",
              "    </tr>\n",
              "    <tr>\n",
              "      <th>2</th>\n",
              "      <td>Ålesund, Norway</td>\n",
              "      <td>62.4722</td>\n",
              "      <td>6.1495</td>\n",
              "    </tr>\n",
              "    <tr>\n",
              "      <th>3</th>\n",
              "      <td>Stavanger, Norway</td>\n",
              "      <td>58.9701</td>\n",
              "      <td>5.7333</td>\n",
              "    </tr>\n",
              "    <tr>\n",
              "      <th>4</th>\n",
              "      <td>San Marino, Italy</td>\n",
              "      <td>43.9429</td>\n",
              "      <td>12.4578</td>\n",
              "    </tr>\n",
              "  </tbody>\n",
              "</table>\n",
              "</div>"
            ],
            "text/plain": [
              "            Location  Latitude  Longitude\n",
              "0   Lisbon, Portugal   38.7167    -9.1390\n",
              "1   Barcelona, Spain   41.3851     2.1734\n",
              "2    Ålesund, Norway   62.4722     6.1495\n",
              "3  Stavanger, Norway   58.9701     5.7333\n",
              "4  San Marino, Italy   43.9429    12.4578"
            ]
          },
          "execution_count": 34,
          "metadata": {},
          "output_type": "execute_result"
        }
      ],
      "source": [
        "gps_df.head()"
      ]
    },
    {
      "cell_type": "markdown",
      "metadata": {
        "id": "jloIkyUc7xUa"
      },
      "source": [
        "Final Dataset: Merging Orders Data, Unit of Measure Data, Distances Data, and GPS Data to create a comprehensive dataset that enhances insights into orders by associating items with unit conversions, providing location-based distance information, and enriching order details with GPS coordinates.\n"
      ]
    },
    {
      "cell_type": "code",
      "execution_count": 35,
      "metadata": {
        "id": "LgSrRS2T5-9D"
      },
      "outputs": [],
      "source": [
        "# Merge Orders Data with Unit of Measure Data on 'Item Code'\n",
        "ord_df_join = pd.merge(ord_df.copy(), uom_df, on='Item Code', how='left').drop(columns=ord_df.filter(regex='_y$').columns.tolist())\n",
        "\n",
        "# Merge Distances Data with GPS Data on 'Location'\n",
        "dist_df = pd.merge(dist_df, gps_df, on='Location', how='left').drop(columns=dist_df.filter(regex='_y$').columns.tolist())\n",
        "\n",
        "# Merge the resulting Orders Data with Distances Data on 'Warehouse Code' and 'Customer Code'\n",
        "ord_df_join = pd.merge(ord_df_join, dist_df, on=['Warehouse Code', 'Customer Code'], how='left').drop(columns=ord_df_join.filter(regex='_y$').columns.tolist())"
      ]
    },
    {
      "cell_type": "code",
      "execution_count": 36,
      "metadata": {
        "colab": {
          "base_uri": "https://localhost:8080/"
        },
        "id": "FFw3k5fo8rMq",
        "outputId": "86c930cd-c5c6-4090-c60a-876e12727d3b"
      },
      "outputs": [
        {
          "data": {
            "text/plain": [
              "(5208, 23)"
            ]
          },
          "execution_count": 36,
          "metadata": {},
          "output_type": "execute_result"
        }
      ],
      "source": [
        "ord_df_join.shape"
      ]
    },
    {
      "cell_type": "markdown",
      "metadata": {
        "id": "ix2fVn_21gmj"
      },
      "source": [
        "Feature Engineering"
      ]
    },
    {
      "cell_type": "code",
      "execution_count": 37,
      "metadata": {
        "id": "qoJ8PxXo0Bwy"
      },
      "outputs": [],
      "source": [
        "# Creating a new 'Weight (KG)' column\n",
        "\n",
        "ord_df_join['KG']=ord_df_join['Units']*ord_df_join['Conversion Ratio']"
      ]
    },
    {
      "cell_type": "code",
      "execution_count": 38,
      "metadata": {
        "id": "mafHrCB40pV9"
      },
      "outputs": [],
      "source": [
        "# Creating CO2 emission columns for each mode using emissions factors\n",
        "\n",
        "dict_co2e = dict(zip(['Air' ,'Sea', 'Road', 'Rail'], [2.1, 0.01, 0.096, 0.028]))\n",
        "MODES = ['Road', 'Rail','Sea', 'Air']\n",
        "for mode in MODES:\n",
        "    ord_df_join['CO2 ' + mode] = ord_df_join['KG'].astype(float)/1000 * ord_df_join[mode].astype(float) * dict_co2e[mode]\n",
        "ord_df_join['CO2 Total'] = ord_df_join[['CO2 ' + mode for mode in MODES]].sum(axis = 1)"
      ]
    },
    {
      "cell_type": "code",
      "execution_count": 39,
      "metadata": {
        "colab": {
          "base_uri": "https://localhost:8080/",
          "height": 290
        },
        "id": "8aQ0E4XC2JUV",
        "outputId": "9ef40710-5bbe-414c-831f-47848ab53902"
      },
      "outputs": [
        {
          "data": {
            "text/html": [
              "<div>\n",
              "<style scoped>\n",
              "    .dataframe tbody tr th:only-of-type {\n",
              "        vertical-align: middle;\n",
              "    }\n",
              "\n",
              "    .dataframe tbody tr th {\n",
              "        vertical-align: top;\n",
              "    }\n",
              "\n",
              "    .dataframe thead th {\n",
              "        text-align: right;\n",
              "    }\n",
              "</style>\n",
              "<table border=\"1\" class=\"dataframe\">\n",
              "  <thead>\n",
              "    <tr style=\"text-align: right;\">\n",
              "      <th></th>\n",
              "      <th>Date</th>\n",
              "      <th>Month-Year</th>\n",
              "      <th>Warehouse Code</th>\n",
              "      <th>Customer Code</th>\n",
              "      <th>Order Number</th>\n",
              "      <th>Order Line Number</th>\n",
              "      <th>Item Code</th>\n",
              "      <th>Units</th>\n",
              "      <th>Euros</th>\n",
              "      <th>Conversion Ratio</th>\n",
              "      <th>...</th>\n",
              "      <th>Warehouse_Latitude</th>\n",
              "      <th>Warehouse_Longitude</th>\n",
              "      <th>Latitude</th>\n",
              "      <th>Longitude</th>\n",
              "      <th>KG</th>\n",
              "      <th>CO2 Road</th>\n",
              "      <th>CO2 Rail</th>\n",
              "      <th>CO2 Sea</th>\n",
              "      <th>CO2 Air</th>\n",
              "      <th>CO2 Total</th>\n",
              "    </tr>\n",
              "  </thead>\n",
              "  <tbody>\n",
              "    <tr>\n",
              "      <th>0</th>\n",
              "      <td>2021-01-04</td>\n",
              "      <td>1-2021</td>\n",
              "      <td>3403434</td>\n",
              "      <td>5002915-15</td>\n",
              "      <td>20247100</td>\n",
              "      <td>1</td>\n",
              "      <td>963543-43</td>\n",
              "      <td>2.0</td>\n",
              "      <td>381.47</td>\n",
              "      <td>56.58400</td>\n",
              "      <td>...</td>\n",
              "      <td>48.9575</td>\n",
              "      <td>4.365</td>\n",
              "      <td>38.7167</td>\n",
              "      <td>-9.1390</td>\n",
              "      <td>113.168</td>\n",
              "      <td>8.318967</td>\n",
              "      <td>0.0</td>\n",
              "      <td>0.0</td>\n",
              "      <td>156.850848</td>\n",
              "      <td>165.169815</td>\n",
              "    </tr>\n",
              "    <tr>\n",
              "      <th>1</th>\n",
              "      <td>2021-01-07</td>\n",
              "      <td>1-2021</td>\n",
              "      <td>3403434</td>\n",
              "      <td>5397843-43</td>\n",
              "      <td>20258239</td>\n",
              "      <td>1</td>\n",
              "      <td>8902753-53</td>\n",
              "      <td>250.0</td>\n",
              "      <td>187.03</td>\n",
              "      <td>0.03200</td>\n",
              "      <td>...</td>\n",
              "      <td>48.9575</td>\n",
              "      <td>4.365</td>\n",
              "      <td>41.3851</td>\n",
              "      <td>2.1734</td>\n",
              "      <td>8.000</td>\n",
              "      <td>0.216183</td>\n",
              "      <td>0.0</td>\n",
              "      <td>0.0</td>\n",
              "      <td>15.976800</td>\n",
              "      <td>16.192983</td>\n",
              "    </tr>\n",
              "    <tr>\n",
              "      <th>2</th>\n",
              "      <td>2021-01-07</td>\n",
              "      <td>1-2021</td>\n",
              "      <td>3403434</td>\n",
              "      <td>5397843-43</td>\n",
              "      <td>20258239</td>\n",
              "      <td>2</td>\n",
              "      <td>8308591-91</td>\n",
              "      <td>500.0</td>\n",
              "      <td>452.45</td>\n",
              "      <td>0.02219</td>\n",
              "      <td>...</td>\n",
              "      <td>48.9575</td>\n",
              "      <td>4.365</td>\n",
              "      <td>41.3851</td>\n",
              "      <td>2.1734</td>\n",
              "      <td>11.095</td>\n",
              "      <td>0.299818</td>\n",
              "      <td>0.0</td>\n",
              "      <td>0.0</td>\n",
              "      <td>22.157825</td>\n",
              "      <td>22.457643</td>\n",
              "    </tr>\n",
              "    <tr>\n",
              "      <th>3</th>\n",
              "      <td>2021-01-07</td>\n",
              "      <td>1-2021</td>\n",
              "      <td>3403434</td>\n",
              "      <td>5397843-43</td>\n",
              "      <td>20258239</td>\n",
              "      <td>3</td>\n",
              "      <td>8308621-21</td>\n",
              "      <td>500.0</td>\n",
              "      <td>452.45</td>\n",
              "      <td>0.02219</td>\n",
              "      <td>...</td>\n",
              "      <td>48.9575</td>\n",
              "      <td>4.365</td>\n",
              "      <td>41.3851</td>\n",
              "      <td>2.1734</td>\n",
              "      <td>11.095</td>\n",
              "      <td>0.299818</td>\n",
              "      <td>0.0</td>\n",
              "      <td>0.0</td>\n",
              "      <td>22.157825</td>\n",
              "      <td>22.457643</td>\n",
              "    </tr>\n",
              "    <tr>\n",
              "      <th>4</th>\n",
              "      <td>2021-01-07</td>\n",
              "      <td>1-2021</td>\n",
              "      <td>3403434</td>\n",
              "      <td>5397843-43</td>\n",
              "      <td>20258239</td>\n",
              "      <td>4</td>\n",
              "      <td>8022921-21</td>\n",
              "      <td>400.0</td>\n",
              "      <td>567.16</td>\n",
              "      <td>0.03200</td>\n",
              "      <td>...</td>\n",
              "      <td>48.9575</td>\n",
              "      <td>4.365</td>\n",
              "      <td>41.3851</td>\n",
              "      <td>2.1734</td>\n",
              "      <td>12.800</td>\n",
              "      <td>0.345892</td>\n",
              "      <td>0.0</td>\n",
              "      <td>0.0</td>\n",
              "      <td>25.562880</td>\n",
              "      <td>25.908772</td>\n",
              "    </tr>\n",
              "  </tbody>\n",
              "</table>\n",
              "<p>5 rows × 29 columns</p>\n",
              "</div>"
            ],
            "text/plain": [
              "        Date Month-Year  Warehouse Code Customer Code  Order Number  \\\n",
              "0 2021-01-04     1-2021         3403434    5002915-15      20247100   \n",
              "1 2021-01-07     1-2021         3403434    5397843-43      20258239   \n",
              "2 2021-01-07     1-2021         3403434    5397843-43      20258239   \n",
              "3 2021-01-07     1-2021         3403434    5397843-43      20258239   \n",
              "4 2021-01-07     1-2021         3403434    5397843-43      20258239   \n",
              "\n",
              "   Order Line Number   Item Code  Units   Euros  Conversion Ratio  ...  \\\n",
              "0                  1   963543-43    2.0  381.47          56.58400  ...   \n",
              "1                  1  8902753-53  250.0  187.03           0.03200  ...   \n",
              "2                  2  8308591-91  500.0  452.45           0.02219  ...   \n",
              "3                  3  8308621-21  500.0  452.45           0.02219  ...   \n",
              "4                  4  8022921-21  400.0  567.16           0.03200  ...   \n",
              "\n",
              "  Warehouse_Latitude Warehouse_Longitude Latitude  Longitude       KG  \\\n",
              "0            48.9575               4.365  38.7167    -9.1390  113.168   \n",
              "1            48.9575               4.365  41.3851     2.1734    8.000   \n",
              "2            48.9575               4.365  41.3851     2.1734   11.095   \n",
              "3            48.9575               4.365  41.3851     2.1734   11.095   \n",
              "4            48.9575               4.365  41.3851     2.1734   12.800   \n",
              "\n",
              "   CO2 Road  CO2 Rail  CO2 Sea     CO2 Air   CO2 Total  \n",
              "0  8.318967       0.0      0.0  156.850848  165.169815  \n",
              "1  0.216183       0.0      0.0   15.976800   16.192983  \n",
              "2  0.299818       0.0      0.0   22.157825   22.457643  \n",
              "3  0.299818       0.0      0.0   22.157825   22.457643  \n",
              "4  0.345892       0.0      0.0   25.562880   25.908772  \n",
              "\n",
              "[5 rows x 29 columns]"
            ]
          },
          "execution_count": 39,
          "metadata": {},
          "output_type": "execute_result"
        }
      ],
      "source": [
        "ord_df_join.head(5)"
      ]
    },
    {
      "cell_type": "code",
      "execution_count": 40,
      "metadata": {
        "id": "FOHjL0yh8xHC"
      },
      "outputs": [],
      "source": [
        "ord_df_join.to_csv(r'final_dataset.csv', index=False)"
      ]
    }
  ],
  "metadata": {
    "colab": {
      "provenance": []
    },
    "kernelspec": {
      "display_name": "base",
      "language": "python",
      "name": "python3"
    },
    "language_info": {
      "codemirror_mode": {
        "name": "ipython",
        "version": 3
      },
      "file_extension": ".py",
      "mimetype": "text/x-python",
      "name": "python",
      "nbconvert_exporter": "python",
      "pygments_lexer": "ipython3",
      "version": "3.8.8"
    }
  },
  "nbformat": 4,
  "nbformat_minor": 0
}
